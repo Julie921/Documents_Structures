{
 "cells": [
  {
   "cell_type": "code",
   "execution_count": 1,
   "metadata": {},
   "outputs": [],
   "source": [
    "import re\n",
    "import glob\n",
    "import sys\n",
    "import os \n",
    "\n",
    "pattern = re.compile(r\"\\d+\\t(.+?)\\t_\\t\\w+\\t_\\t_\\t\\d+\\t\\w+\\t_\\t_\")\n",
    "\n"
   ]
  },
  {
   "cell_type": "code",
   "execution_count": 2,
   "metadata": {},
   "outputs": [],
   "source": [
    "content = \"\"\n",
    "with open(\"aave_test.conllu\",\"r\") as file:\n",
    "    line = file.readline()\n",
    "    while line:\n",
    "        #print(line)\n",
    "        m = re.search(pattern,line)\n",
    "        if m:\n",
    "            #print(m.group(1))\n",
    "            content = content + m.group(1) + \"\\n\"\n",
    "        if line == \"\\n\":\n",
    "            #print(line)\n",
    "            content = content + \"\\n\"\n",
    "        line = file.readline()\n",
    "#print(content)"
   ]
  },
  {
   "cell_type": "code",
   "execution_count": 8,
   "metadata": {},
   "outputs": [],
   "source": [
    "def get_text_from_conll(input):\n",
    "    global pattern\n",
    "    content = \"\"\n",
    "    with open(input,\"r\",encoding=\"utf-8\") as file:\n",
    "        line = file.readline()\n",
    "        while line:\n",
    "            #print(line)\n",
    "            m = re.search(pattern,line)\n",
    "            if m:\n",
    "                #print(m.group(1))\n",
    "                content = content + m.group(1) + \" \"\n",
    "            if line == \"\\n\":\n",
    "                #print(line)\n",
    "                content = content + \"\\n\"\n",
    "            line = file.readline()\n",
    "    return content"
   ]
  },
  {
   "cell_type": "code",
   "execution_count": 4,
   "metadata": {},
   "outputs": [],
   "source": [
    "def get_file_with_text(content,name):\n",
    "    with open(name,\"w\") as file:\n",
    "        file.write(content)\n"
   ]
  },
  {
   "cell_type": "code",
   "execution_count": 9,
   "metadata": {},
   "outputs": [],
   "source": [
    "contenu = get_text_from_conll(\"wh_test.conllu\")\n",
    "get_file_with_text(contenu,\"wh_test.txt\")"
   ]
  },
  {
   "cell_type": "code",
   "execution_count": null,
   "metadata": {},
   "outputs": [],
   "source": [
    "print(content)"
   ]
  },
  {
   "cell_type": "code",
   "execution_count": null,
   "metadata": {},
   "outputs": [],
   "source": [
    "def get_token_per_line(input):\n",
    "    global pattern\n",
    "    content = \"\"\n",
    "    with open(\"../conllu_clean/test/lyrics_cmuc.conllu\",\"r\") as file:\n",
    "        line = file.readline()\n",
    "        while line:\n",
    "            #print(line)\n",
    "            m = re.search(pattern,line)\n",
    "            if m:\n",
    "                #print(m.group(1))\n",
    "                content = content + m.group(1) + \"\\n\"\n",
    "            if line == \"\\n\":\n",
    "                #print(line)\n",
    "                content = content + \"\\n\"\n",
    "            line = file.readline()\n",
    "    return content"
   ]
  },
  {
   "cell_type": "code",
   "execution_count": 51,
   "metadata": {},
   "outputs": [
    {
     "name": "stdout",
     "output_type": "stream",
     "text": [
      "./conllu_clean/dev/devwire_cmuc.conllu\n",
      "./conllu_clean/test/lyrics_cmuc.conllu\n",
      "./conllu_clean/test/testwire_cmuc.conllu\n",
      "./conllu_clean/test/tweets_cmuc.conllu\n"
     ]
    },
    {
     "ename": "UnicodeDecodeError",
     "evalue": "'charmap' codec can't decode byte 0x8f in position 2647: character maps to <undefined>",
     "output_type": "error",
     "traceback": [
      "\u001b[1;31m---------------------------------------------------------------------------\u001b[0m",
      "\u001b[1;31mUnicodeDecodeError\u001b[0m                        Traceback (most recent call last)",
      "Cell \u001b[1;32mIn [51], line 8\u001b[0m\n\u001b[0;32m      6\u001b[0m file \u001b[39m=\u001b[39m file\u001b[39m.\u001b[39mreplace(\u001b[39m\"\u001b[39m\u001b[39m\\\\\u001b[39;00m\u001b[39m\"\u001b[39m,\u001b[39m\"\u001b[39m\u001b[39m/\u001b[39m\u001b[39m\"\u001b[39m)\n\u001b[0;32m      7\u001b[0m \u001b[39mprint\u001b[39m(file)\n\u001b[1;32m----> 8\u001b[0m contenu \u001b[39m=\u001b[39m get_text_from_conll(os\u001b[39m.\u001b[39;49mpath\u001b[39m.\u001b[39;49mnormpath(file))\n\u001b[0;32m      9\u001b[0m \u001b[39m#print(contenu)\u001b[39;00m\n\u001b[0;32m     10\u001b[0m get_file_with_text(contenu,\u001b[39mf\u001b[39m\u001b[39m'\u001b[39m\u001b[39mtext_\u001b[39m\u001b[39m{\u001b[39;00mname\u001b[39m}\u001b[39;00m\u001b[39m'\u001b[39m)\n",
      "Cell \u001b[1;32mIn [22], line 5\u001b[0m, in \u001b[0;36mget_text_from_conll\u001b[1;34m(input)\u001b[0m\n\u001b[0;32m      3\u001b[0m content \u001b[39m=\u001b[39m \u001b[39m\"\u001b[39m\u001b[39m\"\u001b[39m\n\u001b[0;32m      4\u001b[0m \u001b[39mwith\u001b[39;00m \u001b[39mopen\u001b[39m(\u001b[39minput\u001b[39m,\u001b[39m\"\u001b[39m\u001b[39mr\u001b[39m\u001b[39m\"\u001b[39m) \u001b[39mas\u001b[39;00m file:\n\u001b[1;32m----> 5\u001b[0m     line \u001b[39m=\u001b[39m file\u001b[39m.\u001b[39;49mreadline()\n\u001b[0;32m      6\u001b[0m     \u001b[39mwhile\u001b[39;00m line:\n\u001b[0;32m      7\u001b[0m         \u001b[39m#print(line)\u001b[39;00m\n\u001b[0;32m      8\u001b[0m         m \u001b[39m=\u001b[39m re\u001b[39m.\u001b[39msearch(pattern,line)\n",
      "File \u001b[1;32mc:\\Users\\Julie\\AppData\\Local\\Programs\\Python\\Python310\\lib\\encodings\\cp1252.py:23\u001b[0m, in \u001b[0;36mIncrementalDecoder.decode\u001b[1;34m(self, input, final)\u001b[0m\n\u001b[0;32m     22\u001b[0m \u001b[39mdef\u001b[39;00m \u001b[39mdecode\u001b[39m(\u001b[39mself\u001b[39m, \u001b[39minput\u001b[39m, final\u001b[39m=\u001b[39m\u001b[39mFalse\u001b[39;00m):\n\u001b[1;32m---> 23\u001b[0m     \u001b[39mreturn\u001b[39;00m codecs\u001b[39m.\u001b[39;49mcharmap_decode(\u001b[39minput\u001b[39;49m,\u001b[39mself\u001b[39;49m\u001b[39m.\u001b[39;49merrors,decoding_table)[\u001b[39m0\u001b[39m]\n",
      "\u001b[1;31mUnicodeDecodeError\u001b[0m: 'charmap' codec can't decode byte 0x8f in position 2647: character maps to <undefined>"
     ]
    }
   ],
   "source": [
    "dossier = \"./conllu_clean/\"\n",
    "for root,dirs,files in os.walk(dossier):\n",
    "    for file in files:\n",
    "        name = file\n",
    "        file = os.path.join(root,file)\n",
    "        file = file.replace(\"\\\\\",\"/\")\n",
    "        print(file)\n",
    "        contenu = get_token_per_line(os.path.normpath(file))\n",
    "        #print(contenu)\n",
    "        get_file_with_text(contenu,f'text_{name}')\n"
   ]
  }
 ],
 "metadata": {
  "kernelspec": {
   "display_name": "Python 3",
   "language": "python",
   "name": "python3"
  },
  "language_info": {
   "codemirror_mode": {
    "name": "ipython",
    "version": 3
   },
   "file_extension": ".py",
   "mimetype": "text/x-python",
   "name": "python",
   "nbconvert_exporter": "python",
   "pygments_lexer": "ipython3",
   "version": "3.10.4"
  },
  "orig_nbformat": 4,
  "vscode": {
   "interpreter": {
    "hash": "0ff010205904bfe3eee581ff58f8f0b99bd85f9d9a45393812156d4e4d4c6c03"
   }
  }
 },
 "nbformat": 4,
 "nbformat_minor": 2
}
