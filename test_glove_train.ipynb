{
 "cells": [
  {
   "attachments": {},
   "cell_type": "markdown",
   "metadata": {},
   "source": [
    "# Importation des modules"
   ]
  },
  {
   "cell_type": "code",
   "execution_count": 19,
   "metadata": {},
   "outputs": [],
   "source": [
    "import gensim\n",
    "import re\n",
    "import dendoun.extraction as dde"
   ]
  },
  {
   "cell_type": "code",
   "execution_count": null,
   "metadata": {},
   "outputs": [],
   "source": [
    "info = api.info()  # return dict with info about available models/datasets\n",
    "\n",
    "for model, info in info[\"models\"].items():\n",
    "    print(f\"{model}\\t{info}\")\n",
    "    print(\"\\n\\n\")\n",
    "\n",
    "\n",
    "# similars = glove_model.most_similar(\"yr\")  # show words that similar to word 'cat'"
   ]
  },
  {
   "attachments": {},
   "cell_type": "markdown",
   "metadata": {},
   "source": [
    "# Chargement du modèle pré-entraîné"
   ]
  },
  {
   "cell_type": "code",
   "execution_count": 17,
   "metadata": {},
   "outputs": [],
   "source": [
    "model = gensim.models.KeyedVectors.load_word2vec_format('.\\glove\\glove.twitter\\glove-twitter-25-w2v.txt', binary=False)"
   ]
  },
  {
   "attachments": {},
   "cell_type": "markdown",
   "metadata": {},
   "source": [
    "# Fine-tuning sur notre corpus de AAVE"
   ]
  },
  {
   "cell_type": "code",
   "execution_count": 20,
   "metadata": {},
   "outputs": [
    {
     "ename": "AttributeError",
     "evalue": "'KeyedVectors' object has no attribute 'build_vocab'",
     "output_type": "error",
     "traceback": [
      "\u001b[1;31m---------------------------------------------------------------------------\u001b[0m",
      "\u001b[1;31mAttributeError\u001b[0m                            Traceback (most recent call last)",
      "Cell \u001b[1;32mIn[20], line 3\u001b[0m\n\u001b[0;32m      1\u001b[0m \u001b[39m# Update the model with new training data\u001b[39;00m\n\u001b[0;32m      2\u001b[0m aave_tokens \u001b[39m=\u001b[39m dde\u001b[39m.\u001b[39mget_only_tokens_text(\u001b[39m\"\u001b[39m\u001b[39m./corpus_AAVE/corpus_WireLyricsTweets/conllu/train/aave_best_cmuc.conllu\u001b[39m\u001b[39m\"\u001b[39m)\n\u001b[1;32m----> 3\u001b[0m model\u001b[39m.\u001b[39;49mbuild_vocab(aave_tokens, update\u001b[39m=\u001b[39m\u001b[39mTrue\u001b[39;00m)\n\u001b[0;32m      5\u001b[0m \u001b[39m# Train the model on the updated training data\u001b[39;00m\n\u001b[0;32m      6\u001b[0m model\u001b[39m.\u001b[39mtrain(aave_tokens, epochs\u001b[39m=\u001b[39m\u001b[39m10\u001b[39m, total_examples\u001b[39m=\u001b[39mglove_model\u001b[39m.\u001b[39mcorpus_count)\n",
      "\u001b[1;31mAttributeError\u001b[0m: 'KeyedVectors' object has no attribute 'build_vocab'"
     ]
    }
   ],
   "source": [
    "# Update the model with new training data\n",
    "aave_tokens = dde.get_only_tokens_text(\"./corpus_AAVE/corpus_WireLyricsTweets/conllu/train/aave_best_cmuc.conllu\")\n",
    "model.build_vocab(aave_tokens, update=True)\n",
    "\n",
    "# Train the model on the updated training data\n",
    "model.train(aave_tokens, epochs=10, total_examples=glove_model.corpus_count)\n",
    "\n",
    "print(\"Finished fine-tuning on AAVE corpora\")"
   ]
  },
  {
   "cell_type": "code",
   "execution_count": null,
   "metadata": {},
   "outputs": [],
   "source": [
    "# Save the fine-tuned model\n",
    "glove_model.save('glove.twitter.finetuned.aave.bin')"
   ]
  }
 ],
 "metadata": {
  "kernelspec": {
   "display_name": ".venv",
   "language": "python",
   "name": "python3"
  },
  "language_info": {
   "codemirror_mode": {
    "name": "ipython",
    "version": 3
   },
   "file_extension": ".py",
   "mimetype": "text/x-python",
   "name": "python",
   "nbconvert_exporter": "python",
   "pygments_lexer": "ipython3",
   "version": "3.10.9"
  },
  "orig_nbformat": 4,
  "vscode": {
   "interpreter": {
    "hash": "93020ebbe5835db1bbcdb349bd1cf137d04b8c00209105975a305fec03903b79"
   }
  }
 },
 "nbformat": 4,
 "nbformat_minor": 2
}
